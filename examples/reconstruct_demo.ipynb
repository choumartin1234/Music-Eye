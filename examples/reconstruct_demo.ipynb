{
 "cells": [
  {
   "cell_type": "code",
   "execution_count": null,
   "metadata": {},
   "outputs": [],
   "source": [
    "import sys\n",
    "import os\n",
    "\n",
    "parent_path = os.path.abspath(os.path.join(os.getcwd(), \"..\"))\n",
    "sys.path.insert(0, parent_path)"
   ]
  },
  {
   "cell_type": "code",
   "execution_count": null,
   "metadata": {},
   "outputs": [],
   "source": [
    "from utils.miditool import *"
   ]
  },
  {
   "cell_type": "code",
   "execution_count": null,
   "metadata": {},
   "outputs": [],
   "source": [
    "evts, resolution = get_simplified_event_list(\"../data/Cras numquam scire.mid\")"
   ]
  },
  {
   "cell_type": "code",
   "execution_count": null,
   "metadata": {},
   "outputs": [],
   "source": [
    "evts # event absolute tick, data, event type"
   ]
  },
  {
   "cell_type": "code",
   "execution_count": null,
   "metadata": {},
   "outputs": [],
   "source": [
    "resolution"
   ]
  },
  {
   "cell_type": "code",
   "execution_count": null,
   "metadata": {},
   "outputs": [],
   "source": [
    "notes = convert_to_abs_notes(\"../data/Cras numquam scire.mid\")\n",
    "notes # note absolute time (microsecond), pitch, absolute duration (microsecond)"
   ]
  },
  {
   "cell_type": "code",
   "execution_count": null,
   "metadata": {},
   "outputs": [],
   "source": [
    "r\"\"\"\n",
    "Now let us see if we can reconstruct the music from `notes`.\n",
    "I am going to use sythetic wave to reconstruct.\n",
    "\"\"\""
   ]
  },
  {
   "cell_type": "code",
   "execution_count": null,
   "metadata": {},
   "outputs": [],
   "source": [
    "import numpy as np\n",
    "from utils.generate import generate_wave\n",
    "\n",
    "fs = 44100  # sample frequency\n",
    "\n",
    "\n",
    "def freq(midi_pitch):  # `midi_pitch` is varied in [0, 127]\n",
    "    return 440 * 2**((midi_pitch - 69) / 12)\n",
    "\n",
    "\n",
    "def digit_time(microsecond):\n",
    "    return int(microsecond / 1e6 * fs)\n",
    "\n",
    "\n",
    "notes = [(digit_time(i.time), freq(i.pitch), digit_time(i.dur)) for i in notes]\n",
    "totlen = max(i[0]+i[2] for i in notes)\n",
    "wave = np.zeros(totlen)\n",
    "for i in notes:\n",
    "    start = i[0]\n",
    "    size = i[2]\n",
    "    wavelet = generate_wave([i[1]], fs, size)\n",
    "    wave[start:start + size] += wavelet"
   ]
  },
  {
   "cell_type": "code",
   "execution_count": null,
   "metadata": {},
   "outputs": [],
   "source": [
    "import matplotlib.pyplot as plt\n",
    "plt.plot(wave)\n",
    "plt.show()"
   ]
  },
  {
   "cell_type": "code",
   "execution_count": null,
   "metadata": {},
   "outputs": [],
   "source": [
    "from scipy.io.wavfile import write\n",
    "scaled = np.int16(wave/np.max(np.abs(wave)) * 32767)\n",
    "write('tmp.wav', fs, scaled)"
   ]
  },
  {
   "cell_type": "code",
   "execution_count": null,
   "metadata": {},
   "outputs": [],
   "source": [
    "import IPython\n",
    "IPython.display.Audio('tmp.wav')"
   ]
  },
  {
   "cell_type": "code",
   "execution_count": null,
   "metadata": {},
   "outputs": [],
   "source": [
    "# original\n",
    "import music21 as m21\n",
    "p = m21.converter.parse('../data/Cras numquam scire.mid')\n",
    "p.show('midi')"
   ]
  },
  {
   "cell_type": "code",
   "execution_count": null,
   "metadata": {},
   "outputs": [],
   "source": []
  },
  {
   "cell_type": "code",
   "execution_count": null,
   "metadata": {},
   "outputs": [],
   "source": []
  },
  {
   "cell_type": "code",
   "execution_count": null,
   "metadata": {},
   "outputs": [],
   "source": []
  },
  {
   "cell_type": "code",
   "execution_count": null,
   "metadata": {},
   "outputs": [],
   "source": []
  }
 ],
 "metadata": {
  "kernelspec": {
   "display_name": "Python 3",
   "language": "python",
   "name": "python3"
  },
  "language_info": {
   "codemirror_mode": {
    "name": "ipython",
    "version": 3
   },
   "file_extension": ".py",
   "mimetype": "text/x-python",
   "name": "python",
   "nbconvert_exporter": "python",
   "pygments_lexer": "ipython3",
   "version": "3.7.3"
  }
 },
 "nbformat": 4,
 "nbformat_minor": 4
}
