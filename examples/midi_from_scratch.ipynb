{
 "cells": [
  {
   "cell_type": "code",
   "execution_count": null,
   "metadata": {},
   "outputs": [],
   "source": [
    "import midi\n",
    "p = midi.Pattern(format=0, resolution=100, tracks=\\\n",
    "[midi.Track(\\\n",
    "  [midi.SetTempoEvent(tick=0, channel=0, data=[15, 66, 64]), # bpm = 6e7 / ((15<<16)+(66<<8)+64) = 60\n",
    "   midi.NoteOnEvent(tick=400, channel=0, data=[71, 110]),\n",
    "   midi.NoteOffEvent(tick=100, channel=0, data=[71, 0]),\n",
    "   midi.NoteOnEvent(tick=400, channel=0, data=[71, 80]),\n",
    "   midi.NoteOffEvent(tick=100, channel=0, data=[71, 0]),\n",
    "   midi.NoteOnEvent(tick=400, channel=0, data=[71, 60]),\n",
    "   midi.NoteOffEvent(tick=100, channel=0, data=[71, 0]),\n",
    "   midi.NoteOnEvent(tick=400, channel=0, data=[71, 40]),\n",
    "   midi.NoteOffEvent(tick=100, channel=0, data=[71, 0]),\n",
    "   midi.NoteOnEvent(tick=400, channel=0, data=[71, 20]),\n",
    "   midi.NoteOffEvent(tick=100, channel=0, data=[71, 0]),\n",
    "   midi.EndOfTrackEvent(tick=0, data=[])])])"
   ]
  },
  {
   "cell_type": "code",
   "execution_count": null,
   "metadata": {},
   "outputs": [],
   "source": [
    "file = 'tmp.mid'\n",
    "midi.write_midifile(file, p)"
   ]
  },
  {
   "cell_type": "code",
   "execution_count": null,
   "metadata": {},
   "outputs": [],
   "source": [
    "import music21 as m21\n",
    "m21.converter.parse(file).show('midi')"
   ]
  },
  {
   "cell_type": "code",
   "execution_count": null,
   "metadata": {
    "scrolled": true
   },
   "outputs": [],
   "source": [
    "import sys\n",
    "import os\n",
    "\n",
    "parent_path = os.path.abspath(os.path.join(os.getcwd(), \"..\"))\n",
    "sys.path.insert(0, parent_path)\n",
    "\n",
    "from utils.miditool import *\n",
    "evts, resolution = get_simplified_event_list(file)\n",
    "evts"
   ]
  },
  {
   "cell_type": "code",
   "execution_count": null,
   "metadata": {},
   "outputs": [],
   "source": []
  }
 ],
 "metadata": {
  "kernelspec": {
   "display_name": "Python 3",
   "language": "python",
   "name": "python3"
  },
  "language_info": {
   "codemirror_mode": {
    "name": "ipython",
    "version": 3
   },
   "file_extension": ".py",
   "mimetype": "text/x-python",
   "name": "python",
   "nbconvert_exporter": "python",
   "pygments_lexer": "ipython3",
   "version": "3.7.3"
  }
 },
 "nbformat": 4,
 "nbformat_minor": 4
}
