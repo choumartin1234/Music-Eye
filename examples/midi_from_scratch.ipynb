{
 "cells": [
  {
   "cell_type": "code",
   "execution_count": 1,
   "metadata": {},
   "outputs": [],
   "source": [
    "import midi\n",
    "p = midi.Pattern(format=0, resolution=100, tracks=\\\n",
    "[midi.Track(\\\n",
    "  [midi.SetTempoEvent(tick=0, channel=0, data=[15, 66, 64]), # bpm = 6e7 / ((15<<16)+(66<<8)+64) = 60\n",
    "   midi.NoteOnEvent(tick=400, channel=0, data=[71, 110]),\n",
    "   midi.NoteOffEvent(tick=100, channel=0, data=[71, 0]),\n",
    "   midi.NoteOnEvent(tick=400, channel=0, data=[71, 80]),\n",
    "   midi.NoteOffEvent(tick=100, channel=0, data=[71, 0]),\n",
    "   midi.NoteOnEvent(tick=400, channel=0, data=[71, 60]),\n",
    "   midi.NoteOffEvent(tick=100, channel=0, data=[71, 0]),\n",
    "   midi.NoteOnEvent(tick=400, channel=0, data=[71, 40]),\n",
    "   midi.NoteOffEvent(tick=100, channel=0, data=[71, 0]),\n",
    "   midi.NoteOnEvent(tick=400, channel=0, data=[71, 20]),\n",
    "   midi.NoteOffEvent(tick=100, channel=0, data=[71, 0]),\n",
    "   midi.EndOfTrackEvent(tick=0, data=[])])])"
   ]
  },
  {
   "cell_type": "code",
   "execution_count": 2,
   "metadata": {},
   "outputs": [],
   "source": [
    "file = 'tmp.mid'\n",
    "midi.write_midifile(file, p)"
   ]
  },
  {
   "cell_type": "code",
   "execution_count": 3,
   "metadata": {},
   "outputs": [
    {
     "data": {
      "text/html": [
       "\n",
       "                <div id='midiPlayerDiv118'></div>\n",
       "                <link rel=\"stylesheet\" href=\"//cuthbertLab.github.io/music21j/css/m21.css\"\n",
       "                    type=\"text/css\" />\n",
       "                <script>\n",
       "                require.config({\n",
       "                    paths: {'music21': '//cuthbertLab.github.io/music21j/src/music21'}\n",
       "                });\n",
       "                require(['music21'], function() {\n",
       "                               mp = new music21.miditools.MidiPlayer();\n",
       "                               mp.addPlayer('#midiPlayerDiv118');\n",
       "                               mp.base64Load('data:audio/midi;base64,TVRoZAAAAAYAAQABBABNVHJrAAAARgD/AwAA4ABAAP9RAw9CQKAAkEduiACARwCgAJBHUIgAgEcAoACQRzyIAIBHAKAAkEcoiACARwCgAJBHFIgAgEcAiAD/LwA=');\n",
       "                        });\n",
       "                </script>"
      ],
      "text/plain": [
       "<IPython.core.display.HTML object>"
      ]
     },
     "metadata": {},
     "output_type": "display_data"
    }
   ],
   "source": [
    "import music21 as m21\n",
    "m21.converter.parse(file).show('midi')"
   ]
  },
  {
   "cell_type": "code",
   "execution_count": 4,
   "metadata": {
    "scrolled": true
   },
   "outputs": [
    {
     "data": {
      "text/plain": [
       "[[(0, 1000000, 'tempo'),\n",
       "  (400, 71, 'on'),\n",
       "  (500, 71, 'off'),\n",
       "  (900, 71, 'on'),\n",
       "  (1000, 71, 'off'),\n",
       "  (1400, 71, 'on'),\n",
       "  (1500, 71, 'off'),\n",
       "  (1900, 71, 'on'),\n",
       "  (2000, 71, 'off'),\n",
       "  (2400, 71, 'on'),\n",
       "  (2500, 0, 'end'),\n",
       "  (2500, 71, 'off')]]"
      ]
     },
     "execution_count": 4,
     "metadata": {},
     "output_type": "execute_result"
    }
   ],
   "source": [
    "import sys\n",
    "import os\n",
    "\n",
    "parent_path = os.path.abspath(os.path.join(os.getcwd(), \"..\"))\n",
    "sys.path.insert(0, parent_path)\n",
    "\n",
    "from utils.miditool import *\n",
    "evts, resolution = get_simplified_event_list(file)\n",
    "evts"
   ]
  },
  {
   "cell_type": "code",
   "execution_count": null,
   "metadata": {},
   "outputs": [],
   "source": []
  },
  {
   "cell_type": "code",
   "execution_count": null,
   "metadata": {},
   "outputs": [],
   "source": []
  }
 ],
 "metadata": {
  "kernelspec": {
   "display_name": "Python 3",
   "language": "python",
   "name": "python3"
  },
  "language_info": {
   "codemirror_mode": {
    "name": "ipython",
    "version": 3
   },
   "file_extension": ".py",
   "mimetype": "text/x-python",
   "name": "python",
   "nbconvert_exporter": "python",
   "pygments_lexer": "ipython3",
   "version": "3.7.3"
  }
 },
 "nbformat": 4,
 "nbformat_minor": 4
}
