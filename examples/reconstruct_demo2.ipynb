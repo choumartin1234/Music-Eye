{
 "cells": [
  {
   "cell_type": "code",
   "execution_count": null,
   "metadata": {},
   "outputs": [],
   "source": [
    "import sys\n",
    "import os\n",
    "\n",
    "\n",
    "parent_path = os.path.abspath(os.path.join(os.getcwd(), \"..\"))\n",
    "sys.path.insert(0, parent_path)\n",
    "\n",
    "from utils.miditool import *\n",
    "\n",
    "import numpy as np\n",
    "from utils.generate import generate_wave\n",
    "\n",
    "fs = 44100  # sample frequency\n",
    "\n",
    "\n",
    "def freq(midi_pitch):  # `midi_pitch` is varied in [0, 127]\n",
    "    return 440 * 2**((midi_pitch - 69) / 12)\n",
    "\n",
    "def digit_time(microsecond):\n",
    "    return int(microsecond / 1e6 * fs)\n"
   ]
  },
  {
   "cell_type": "code",
   "execution_count": null,
   "metadata": {},
   "outputs": [],
   "source": [
    "os.listdir('../data/midi_set')"
   ]
  },
  {
   "cell_type": "code",
   "execution_count": null,
   "metadata": {},
   "outputs": [],
   "source": [
    "file =  \"../data/midi_set/reelsd-g35.mid\"\n",
    "notes = convert_to_abs_notes(file)\n",
    "for i in notes:\n",
    "    print(i)\n",
    "notes = [(digit_time(i.time), freq(i.pitch), digit_time(i.dur)) for i in notes]\n",
    "totlen = max(i[0]+i[2] for i in notes)\n",
    "wave = np.zeros(totlen)\n",
    "for i in notes:\n",
    "    start = i[0]\n",
    "    size = i[2]\n",
    "    wavelet = generate_wave([i[1]], fs, size)\n",
    "    wave[start:start + size] += wavelet\n",
    "\n",
    "from scipy.io.wavfile import write\n",
    "scaled = np.int16(wave / np.max(np.abs(wave)) * 32767)\n",
    "write('tmp.wav', fs, scaled)\n",
    "\n",
    "import IPython\n",
    "IPython.display.Audio('tmp.wav')"
   ]
  },
  {
   "cell_type": "code",
   "execution_count": null,
   "metadata": {},
   "outputs": [],
   "source": []
  }
 ],
 "metadata": {
  "kernelspec": {
   "display_name": "Python 3",
   "language": "python",
   "name": "python3"
  },
  "language_info": {
   "codemirror_mode": {
    "name": "ipython",
    "version": 3
   },
   "file_extension": ".py",
   "mimetype": "text/x-python",
   "name": "python",
   "nbconvert_exporter": "python",
   "pygments_lexer": "ipython3",
   "version": "3.7.3"
  }
 },
 "nbformat": 4,
 "nbformat_minor": 4
}
